{
 "metadata": {
  "language_info": {
   "codemirror_mode": {
    "name": "ipython",
    "version": 3
   },
   "file_extension": ".py",
   "mimetype": "text/x-python",
   "name": "python",
   "nbconvert_exporter": "python",
   "pygments_lexer": "ipython3",
   "version": "3.8.2"
  },
  "orig_nbformat": 2,
  "kernelspec": {
   "name": "python382jvsc74a57bd05edc29c2ed010d6458d71a83433b383a96a8cbd3efe8531bc90c4b8a5b8bcec9",
   "display_name": "Python 3.8.2 64-bit ('usr')"
  },
  "metadata": {
   "interpreter": {
    "hash": "5edc29c2ed010d6458d71a83433b383a96a8cbd3efe8531bc90c4b8a5b8bcec9"
   }
  }
 },
 "nbformat": 4,
 "nbformat_minor": 2,
 "cells": [
  {
   "cell_type": "code",
   "execution_count": 8,
   "metadata": {},
   "outputs": [
    {
     "output_type": "stream",
     "name": "stdout",
     "text": [
      "abc\n",
      "tde\n",
      "abc\n"
     ]
    }
   ],
   "source": [
    "a = input('Enter the first world: ')\n",
    "print(a)\n",
    "b = input('Enter the second word: ')\n",
    "print(b)\n",
    "d = (a[0],b[0])\n",
    "c = sorted(d)\n",
    "if c[0] == a[0]:\n",
    "    print(a)\n",
    "else:\n",
    "    print(b)"
   ]
  },
  {
   "cell_type": "code",
   "execution_count": 12,
   "metadata": {},
   "outputs": [
    {
     "output_type": "stream",
     "name": "stdout",
     "text": [
      "Yes\n"
     ]
    }
   ],
   "source": [
    "a = input('Enter a single letter: ')\n",
    "vowel = ('a', 'e', 'i', 'o', 'u')\n",
    "if a in vowel:\n",
    "    print('Yes')\n",
    "else:\n",
    "    print('no')\n"
   ]
  },
  {
   "cell_type": "code",
   "execution_count": 15,
   "metadata": {},
   "outputs": [
    {
     "output_type": "stream",
     "name": "stdout",
     "text": [
      "2006\nYou will turn 15 this year\n"
     ]
    }
   ],
   "source": [
    "import datetime\n",
    "a = input('Enter your birth year: ')\n",
    "print(a)\n",
    "x = datetime.datetime.now().year\n",
    "age = int(x) - int(a)\n",
    "print('You will turn {} this year'.format(age))\n"
   ]
  },
  {
   "cell_type": "code",
   "execution_count": 19,
   "metadata": {},
   "outputs": [
    {
     "output_type": "stream",
     "name": "stdout",
     "text": [
      "You are old\n"
     ]
    }
   ],
   "source": [
    "a = input('Enter your age: ')\n",
    "if int(a) <=30:\n",
    "    print('Your are young')\n",
    "elif int(a) <= 50:\n",
    "    print('Your are in your right age of life')\n",
    "else:\n",
    "    print('You are old')"
   ]
  },
  {
   "cell_type": "code",
   "execution_count": 24,
   "metadata": {},
   "outputs": [
    {
     "output_type": "stream",
     "name": "stdout",
     "text": [
      "You run/walk in a speed of 1000.0 m/h \n"
     ]
    }
   ],
   "source": [
    "distance = input('Tell us how far you run or walked in meters: ')\n",
    "time = input('Tell us how long did it take in minutes: ')\n",
    "average = int(distance) / (int(time)/60)\n",
    "print('You run/walk in a speed of {} m/h '. format(average))"
   ]
  },
  {
   "cell_type": "code",
   "execution_count": 31,
   "metadata": {},
   "outputs": [
    {
     "output_type": "stream",
     "name": "stdout",
     "text": [
      "oskar\n",
      "5\n",
      "Enter an integer within 5\n"
     ]
    }
   ],
   "source": [
    "name = input('Enter your name: ')\n",
    "print(name)\n",
    "index = input('Enter an integer: ')\n",
    "print(index)\n",
    "if int(index) in range(len(name)):\n",
    "    print(name[int(index)])\n",
    "else:\n",
    "    print('Enter an integer within {}'.format(len(name)))"
   ]
  },
  {
   "cell_type": "code",
   "execution_count": 54,
   "metadata": {},
   "outputs": [
    {
     "output_type": "stream",
     "name": "stdout",
     "text": [
      "sex\ns\nexsay\n"
     ]
    }
   ],
   "source": [
    "word = input('Enter a word: ')\n",
    "print(word)\n",
    "print(word[0])\n",
    "\n",
    "vowel = ('a','e','i','o','u')\n",
    "if word[0] in vowel:\n",
    "    print(word + 'way')\n",
    "else:\n",
    "  move_word = word[1:]  \n",
    "  add_word = word[1:] + word[0]\n",
    "  new_word = add_word + 'ay'\n",
    "  print(new_word)\n"
   ]
  },
  {
   "cell_type": "code",
   "execution_count": 65,
   "metadata": {},
   "outputs": [
    {
     "output_type": "stream",
     "name": "stdout",
     "text": [
      "kaitlin\n",
      "o\n",
      "Enter any letter from ['k', 'a', 'i', 't', 'l', 'i', 'n']\n"
     ]
    }
   ],
   "source": [
    "\n",
    "#c Ask the user to enter a string. Now ask the user to enter a letter. Print the index at which that letter was found, as well as the one letter preceding and the one letter following what was asked for. For example, if the string is abcdefg and the user asks to find c, then the program should print 2 (the index where c can be found), and the string bcd. Note that the program should ignore any leading or trailing whitespace in the user’s input.\n",
    "a = input('Enter a string: ')\n",
    "print(a)\n",
    "b = input('Enter a letter: ')\n",
    "print(b)\n",
    "if b not in a:\n",
    "    print('Enter any letter from {}'.format(list(a)))\n",
    "else:\n",
    "    letter_index = a.index(b)\n",
    "    new_string = a[letter_index -1] + b + a[letter_index +1]\n",
    "    print(letter_index)\n",
    "    print(new_string)"
   ]
  },
  {
   "cell_type": "code",
   "execution_count": 83,
   "metadata": {},
   "outputs": [
    {
     "output_type": "stream",
     "name": "stdout",
     "text": [
      "cdecde\n",
      "1\n",
      "3\n",
      "de\n"
     ]
    }
   ],
   "source": [
    "#Ask the user to enter a string. Then ask the user to enter two numbers (as separate inputs). Print the string from the first number to the second number, assuming that both are legitimate indexes in the string. If the user gives non-numbers, then scold them. If the user gives indexes that are negative or too high, scold them. (Please don’t scold your users when it comes to real software!) So if the user enters abcdefg and the numbers 3 and 5, then we should see de in the output, since that’s from index 3 to index 5 (not including 5).\n",
    "\n",
    "name = input('Enter a string: ')\n",
    "print(name)\n",
    "num_one = input('Enter number one: ')\n",
    "print(num_one)\n",
    "num_two = input('Enter number two: ')\n",
    "print(num_two)\n",
    "if int(num_one) in range(len(name)) and int(num_two) in range(len(name)):\n",
    "    print(name[int(num_one):int(num_two)])\n",
    "else:\n",
    "    print('Enter any number between {}'.format(range(len(name))))"
   ]
  },
  {
   "cell_type": "code",
   "execution_count": null,
   "metadata": {},
   "outputs": [],
   "source": [
    "\n"
   ]
  }
 ]
}